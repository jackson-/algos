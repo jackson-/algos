{
 "cells": [
  {
   "cell_type": "code",
   "execution_count": 32,
   "metadata": {
    "collapsed": true
   },
   "outputs": [],
   "source": [
    "import pandas as ps\n",
    "import numpy as np\n",
    "from sklearn.ensemble import RandomForestClassifier\n",
    "from sklearn.ensemble import RandomForestRegressor\n",
    "from sklearn.metrics import r2_score, roc_auc_score\n",
    "from pprint import PrettyPrinter\n",
    "import math\n",
    "import random\n",
    "np.set_printoptions(suppress=True)\n",
    "pp = PrettyPrinter().pprint"
   ]
  },
  {
   "cell_type": "code",
   "execution_count": 33,
   "metadata": {
    "collapsed": false
   },
   "outputs": [],
   "source": [
    "loans = ps.read_csv('/Users/devinjackson/Documents/data/lending-club-loan-data/loan.csv')"
   ]
  },
  {
   "cell_type": "code",
   "execution_count": 4,
   "metadata": {
    "collapsed": false
   },
   "outputs": [
    {
     "name": "stdout",
     "output_type": "stream",
     "text": [
      "Index([u'id', u'member_id', u'loan_amnt', u'funded_amnt', u'funded_amnt_inv',\n",
      "       u'term', u'int_rate', u'installment', u'grade', u'home_ownership',\n",
      "       u'annual_inc', u'verification_status', u'loan_status', u'pymnt_plan',\n",
      "       u'dti', u'delinq_2yrs', u'inq_last_6mths', u'mths_since_last_delinq',\n",
      "       u'mths_since_last_record', u'open_acc', u'pub_rec', u'revol_bal',\n",
      "       u'revol_util', u'total_acc', u'initial_list_status', u'out_prncp',\n",
      "       u'out_prncp_inv', u'total_pymnt', u'total_pymnt_inv',\n",
      "       u'total_rec_prncp', u'total_rec_int', u'total_rec_late_fee',\n",
      "       u'recoveries', u'collection_recovery_fee', u'last_pymnt_amnt',\n",
      "       u'collections_12_mths_ex_med', u'mths_since_last_major_derog',\n",
      "       u'policy_code', u'annual_inc_joint', u'dti_joint',\n",
      "       u'verification_status_joint', u'acc_now_delinq', u'tot_coll_amt',\n",
      "       u'tot_cur_bal', u'open_acc_6m', u'open_il_6m', u'open_il_12m',\n",
      "       u'open_il_24m', u'mths_since_rcnt_il', u'total_bal_il', u'il_util',\n",
      "       u'open_rv_12m', u'open_rv_24m', u'max_bal_bc', u'all_util',\n",
      "       u'total_rev_hi_lim', u'inq_fi', u'total_cu_tl', u'inq_last_12m'],\n",
      "      dtype='object')\n"
     ]
    }
   ],
   "source": [
    "drop_cols = ['sub_grade', 'emp_length', 'emp_title', 'issue_d', 'url', 'desc', 'title', 'purpose', 'zip_code', 'addr_state', \n",
    "'earliest_cr_line', 'last_pymnt_d', 'next_pymnt_d', 'last_credit_pull_d', 'application_type']\n",
    "loans = loans.drop(drop_cols, axis=1)\n",
    "print loans.columns"
   ]
  },
  {
   "cell_type": "code",
   "execution_count": 5,
   "metadata": {
    "collapsed": true
   },
   "outputs": [],
   "source": [
    "loans = loans[(loans['verification_status'] =='Not Verified') | (loans['verification_status'] =='Verified')\n",
    "            | (loans['verification_status'] =='Source Verified')]\n",
    "loans = loans[(loans['term'] ==' 36 months') | (loans['term'] ==' 60 months')]\n",
    "loans = loans[(loans['initial_list_status'] =='f') | (loans['initial_list_status'] =='w')]\n",
    "loans = loans[(loans['pymnt_plan'] =='n') | (loans['pymnt_plan'] =='y')]\n",
    "loans = loans[(loans['loan_status'] =='Fully Paid') | (loans['loan_status'] =='Default')]\n",
    "loans = loans[(loans['home_ownership'] =='RENT') | (loans['home_ownership'] =='OWN') | (loans['home_ownership'] =='NONE')\n",
    "            | (loans['home_ownership'] =='MORTGAGE') | (loans['home_ownership'] =='OTHER')]\n",
    "loans['term'] = loans['term'].map( {' 36 months': 0, ' 60 months': 1} ).astype(int)\n",
    "loans['loan_status'] = loans['loan_status'].map( {'Fully Paid': 0, 'Default': 1} ).astype(int)\n",
    "loans['grade'] = loans['grade'].map( {'A': 0, 'B': 1, 'C': 2, 'D': 3, 'E': 4, 'F': 5, 'G': 6} ).astype(int)\n",
    "loans['home_ownership'] = loans['home_ownership'].map( {'RENT': 0, 'OWN': 1,'MORTGAGE': 2, 'OTHER': 3,\n",
    "                                                         'NONE': 4} ).astype(int)\n",
    "loans['verification_status'] = loans['verification_status'].map( {'Verified': 0, \n",
    " 'Source Verified': 1,'Not Verified': 2} ).astype(int)\n",
    "loans['pymnt_plan'] = loans['pymnt_plan'].map( {'n': 0, 'y': 1} ).astype(int)\n",
    "loans['initial_list_status'] = loans['initial_list_status'].map( {'f': 0, 'w': 1} ).astype(int)\n",
    "if 'verification_status_joint' in loans.columns:\n",
    "    loans = loans.drop(['verification_status_joint'],axis=1)\n",
    "loans = loans.drop(['total_rec_int'], axis=1)"
   ]
  },
  {
   "cell_type": "code",
   "execution_count": 6,
   "metadata": {
    "collapsed": true
   },
   "outputs": [],
   "source": [
    "np.random.seed(seed=1234)\n",
    "random_idx = np.random.rand(loans.shape[0])"
   ]
  },
  {
   "cell_type": "code",
   "execution_count": 7,
   "metadata": {
    "collapsed": false
   },
   "outputs": [
    {
     "name": "stdout",
     "output_type": "stream",
     "text": [
      "[ 0.19151945  0.62210877  0.43772774 ...,  0.95466902  0.02534225\n",
      "  0.73835725]\n"
     ]
    }
   ],
   "source": [
    "print random_idx\n",
    "train = loans [ random_idx < 0.7 ]\n",
    "test = loans[ random_idx >= 0.7 ]"
   ]
  },
  {
   "cell_type": "code",
   "execution_count": 8,
   "metadata": {
    "collapsed": true
   },
   "outputs": [],
   "source": [
    "cols = list(train.columns)\n",
    "cols.remove('loan_status')\n",
    "train = train.fillna(0.0)\n",
    "test = test.fillna(0.0)\n",
    "forest = RandomForestClassifier(n_estimators = 100)\n",
    "t_cols = cols\n",
    "t_cols.append('loan_status')\n",
    "forest = forest.fit(train[cols], train['loan_status'])\n",
    "output = forest.predict(test[t_cols])"
   ]
  },
  {
   "cell_type": "code",
   "execution_count": 9,
   "metadata": {
    "collapsed": false
   },
   "outputs": [
    {
     "name": "stdout",
     "output_type": "stream",
     "text": [
      "1.0\n"
     ]
    }
   ],
   "source": [
    "print roc_auc_score(test['loan_status'], output)\n",
    "#print r2_score(test['int_rate'].values, output)"
   ]
  },
  {
   "cell_type": "code",
   "execution_count": 24,
   "metadata": {
    "collapsed": false
   },
   "outputs": [
    {
     "name": "stdout",
     "output_type": "stream",
     "text": [
      "[ 0.00584636  0.00438578  0.00405439  0.00728705  0.00585628  0.00076764\n",
      "  0.00132878  0.00480416  0.00080348  0.00007236  0.0003598   0.00016939\n",
      "  0.          0.00057921  0.00006126  0.00013524  0.00020099  0.00008846\n",
      "  0.00054704  0.0000594   0.00021253  0.00037235  0.00033807  0.00012325\n",
      "  0.25573407  0.26007531  0.01854297  0.01259424  0.03574999  0.0004924   0.\n",
      "  0.          0.01542848  0.00002145  0.00005484  0.          0.          0.\n",
      "  0.          0.00005401  0.0010031   0.          0.          0.          0.\n",
      "  0.          0.          0.          0.00003171  0.          0.\n",
      "  0.00001715  0.00104617  0.          0.          0.          0.3607008 ]\n"
     ]
    }
   ],
   "source": [
    "print forest.feature_importances_\n",
    "important_cols = []\n",
    "#print pp(zip(forest.feature_importances_, train.columns))\n",
    "for level, col in zip(forest.feature_importances_, train.columns):\n",
    "    if level > 0.0:\n",
    "        print col, level\n",
    "        important_cols.append(col)"
   ]
  },
  {
   "cell_type": "code",
   "execution_count": 38,
   "metadata": {
    "collapsed": false
   },
   "outputs": [
    {
     "name": "stdout",
     "output_type": "stream",
     "text": [
      "[(0.36070080414565064, 'inq_last_12m'), (0.26007531389070754, 'out_prncp'), (0.25573407274462662, 'initial_list_status'), (0.035749988371634824, 'total_pymnt_inv'), (0.018542966844773068, 'out_prncp_inv'), (0.015428477863096722, 'collection_recovery_fee'), (0.012594239386881699, 'total_pymnt'), (0.0072870472725063843, 'funded_amnt'), (0.0058562799645157492, 'funded_amnt_inv')]\n"
     ]
    }
   ],
   "source": [
    "imp = zip(forest.feature_importances_, train.columns)\n",
    "print sorted(imp, reverse=True)[:9]"
   ]
  },
  {
   "cell_type": "code",
   "execution_count": null,
   "metadata": {
    "collapsed": true
   },
   "outputs": [],
   "source": []
  }
 ],
 "metadata": {
  "kernelspec": {
   "display_name": "Python 2",
   "language": "python",
   "name": "python2"
  },
  "language_info": {
   "codemirror_mode": {
    "name": "ipython",
    "version": 2
   },
   "file_extension": ".py",
   "mimetype": "text/x-python",
   "name": "python",
   "nbconvert_exporter": "python",
   "pygments_lexer": "ipython2",
   "version": "2.7.11"
  }
 },
 "nbformat": 4,
 "nbformat_minor": 0
}
